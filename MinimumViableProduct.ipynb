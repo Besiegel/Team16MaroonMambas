{
 "cells": [
  {
   "cell_type": "code",
   "execution_count": 144,
   "metadata": {},
   "outputs": [
    {
     "name": "stdout",
     "output_type": "stream",
     "text": [
      "this list has 5100 items in it\n"
     ]
    },
    {
     "data": {
      "text/plain": [
       "OrderedDict([('Rank', '62'),\n",
       "             ('Song', 'eres tu'),\n",
       "             ('Artist', 'mocedades'),\n",
       "             ('Year', '1974'),\n",
       "             ('Lyrics',\n",
       "              ' como una promesa eres t eres t como una maana de verano como una sonrisa eres t eres t as as eres ttoda mi esperanza eres t eres t como lluvia fresca en mis manos como fuerte brisa eres t eres t as  as eres teres t como el agua de mi fuente eres t el fuego de mi hogar eres t como el agua de mi fuente eres t el fuego de mi hogarcomo un poema eres t eres t como una guitarra en la noche como el horizonte eres t eres t as as eres teres t como el agua de mi fuente eres t el fuego de mi hogar eres t como el agua de mi fuente eres t el fuego de mi hogartranslationlike a promise are you are you like a morning of summer like a smile are you are you like that like that are youall my hope are you are you like rain fresh in my hands like strong breeze are you are you like that like that are youare you like the water of my fountain are you the fire of my home are you like the water of my fountain are you the fire of my homesomething like that are you mmmm something like  the fire of my hearth something like that are you oooomy life something like that are you like my poem are you are you like a guitar in the night all my horizon are you are you like that like that are youare you like the water of my fountain are you the fire of my home are you like the water of my fountain are you the fire of my homesomething like that are you mmmm something like  the fire of my hearth something like that are you oooo my life something like that are yousomething like that are you mmmm something like  the fire of my hearth something like that are you oooo my life something like that are you '),\n",
       "             ('Source', '1')])"
      ]
     },
     "execution_count": 144,
     "metadata": {},
     "output_type": "execute_result"
    }
   ],
   "source": [
    "##if letter in word and letter != \"\":\n",
    "##                beta = letter_list.index(letter)\n",
    "\n",
    "import csv\n",
    "lyricinfo = list(csv.DictReader(open('billboard_lyrics_1964-2015.csv','r'),delimiter=','))\n",
    "print(\"this list has\",len(lyricinfo),\"items in it\")\n",
    "lyricinfo[961]"
   ]
  },
  {
   "cell_type": "code",
   "execution_count": 101,
   "metadata": {},
   "outputs": [],
   "source": [
    "def lyric_locate_title():\n",
    "    title_input = input(\"What is the name of the song you are looking for?\")\n",
    "    titles = [f for f in lyricinfo if title_input in lyricinfo]\n",
    "    for i in titles: \n",
    "        print(i)\n",
    "# z = [f for f in facinfo if \"German\" in f['title'] ]"
   ]
  },
  {
   "cell_type": "code",
   "execution_count": 103,
   "metadata": {},
   "outputs": [
    {
     "name": "stdin",
     "output_type": "stream",
     "text": [
      "What is the name of the song you are looking for? 351\n"
     ]
    }
   ],
   "source": [
    "lyric_locate_title()"
   ]
  },
  {
   "cell_type": "code",
   "execution_count": 130,
   "metadata": {},
   "outputs": [],
   "source": [
    "def lyric_test():\n",
    "    i = 0\n",
    "    list2 = []\n",
    "    for i in lyricinfo:\n",
    "        list2.append(lyricinfo[i]['Song'])\n",
    "        i+= 1\n",
    "    print(list2)"
   ]
  },
  {
   "cell_type": "code",
   "execution_count": 131,
   "metadata": {},
   "outputs": [
    {
     "ename": "TypeError",
     "evalue": "list indices must be integers or slices, not collections.OrderedDict",
     "output_type": "error",
     "traceback": [
      "\u001b[1;31m---------------------------------------------------------------------------\u001b[0m",
      "\u001b[1;31mTypeError\u001b[0m                                 Traceback (most recent call last)",
      "\u001b[1;32m<ipython-input-131-ed236e79e6e4>\u001b[0m in \u001b[0;36m<module>\u001b[1;34m\u001b[0m\n\u001b[1;32m----> 1\u001b[1;33m \u001b[0mlyric_test\u001b[0m\u001b[1;33m(\u001b[0m\u001b[1;33m)\u001b[0m\u001b[1;33m\u001b[0m\u001b[1;33m\u001b[0m\u001b[0m\n\u001b[0m",
      "\u001b[1;32m<ipython-input-130-77fd287d16b0>\u001b[0m in \u001b[0;36mlyric_test\u001b[1;34m()\u001b[0m\n\u001b[0;32m      3\u001b[0m     \u001b[0mlist2\u001b[0m \u001b[1;33m=\u001b[0m \u001b[1;33m[\u001b[0m\u001b[1;33m]\u001b[0m\u001b[1;33m\u001b[0m\u001b[1;33m\u001b[0m\u001b[0m\n\u001b[0;32m      4\u001b[0m     \u001b[1;32mfor\u001b[0m \u001b[0mi\u001b[0m \u001b[1;32min\u001b[0m \u001b[0mlyricinfo\u001b[0m\u001b[1;33m:\u001b[0m\u001b[1;33m\u001b[0m\u001b[1;33m\u001b[0m\u001b[0m\n\u001b[1;32m----> 5\u001b[1;33m         \u001b[0mlist2\u001b[0m\u001b[1;33m.\u001b[0m\u001b[0mappend\u001b[0m\u001b[1;33m(\u001b[0m\u001b[0mlyricinfo\u001b[0m\u001b[1;33m[\u001b[0m\u001b[0mi\u001b[0m\u001b[1;33m]\u001b[0m\u001b[1;33m[\u001b[0m\u001b[1;34m'Song'\u001b[0m\u001b[1;33m]\u001b[0m\u001b[1;33m)\u001b[0m\u001b[1;33m\u001b[0m\u001b[1;33m\u001b[0m\u001b[0m\n\u001b[0m\u001b[0;32m      6\u001b[0m         \u001b[0mi\u001b[0m\u001b[1;33m+=\u001b[0m \u001b[1;36m1\u001b[0m\u001b[1;33m\u001b[0m\u001b[1;33m\u001b[0m\u001b[0m\n\u001b[0;32m      7\u001b[0m     \u001b[0mprint\u001b[0m\u001b[1;33m(\u001b[0m\u001b[0mlist2\u001b[0m\u001b[1;33m)\u001b[0m\u001b[1;33m\u001b[0m\u001b[1;33m\u001b[0m\u001b[0m\n",
      "\u001b[1;31mTypeError\u001b[0m: list indices must be integers or slices, not collections.OrderedDict"
     ]
    }
   ],
   "source": [
    "lyric_test()"
   ]
  },
  {
   "cell_type": "code",
   "execution_count": 151,
   "metadata": {},
   "outputs": [
    {
     "name": "stdin",
     "output_type": "stream",
     "text": [
      "What is the name of the song you are looking for? wooly\n"
     ]
    },
    {
     "ename": "ValueError",
     "evalue": "'wooly' is not in list",
     "output_type": "error",
     "traceback": [
      "\u001b[1;31m---------------------------------------------------------------------------\u001b[0m",
      "\u001b[1;31mValueError\u001b[0m                                Traceback (most recent call last)",
      "\u001b[1;32m<ipython-input-151-c3b26658a84d>\u001b[0m in \u001b[0;36m<module>\u001b[1;34m\u001b[0m\n\u001b[0;32m      1\u001b[0m \u001b[0msonglist\u001b[0m \u001b[1;33m=\u001b[0m \u001b[1;33m[\u001b[0m\u001b[1;33m]\u001b[0m\u001b[1;33m\u001b[0m\u001b[1;33m\u001b[0m\u001b[0m\n\u001b[0;32m      2\u001b[0m \u001b[0mtitle_input\u001b[0m \u001b[1;33m=\u001b[0m \u001b[0minput\u001b[0m\u001b[1;33m(\u001b[0m\u001b[1;34m\"What is the name of the song you are looking for?\"\u001b[0m\u001b[1;33m)\u001b[0m\u001b[1;33m\u001b[0m\u001b[1;33m\u001b[0m\u001b[0m\n\u001b[1;32m----> 3\u001b[1;33m \u001b[0mz\u001b[0m \u001b[1;33m=\u001b[0m \u001b[0mlen\u001b[0m\u001b[1;33m(\u001b[0m\u001b[0mlyricinfo\u001b[0m\u001b[1;33m.\u001b[0m\u001b[0mindex\u001b[0m\u001b[1;33m(\u001b[0m\u001b[0mtitle_input\u001b[0m\u001b[1;33m)\u001b[0m\u001b[1;33m)\u001b[0m\u001b[1;33m\u001b[0m\u001b[1;33m\u001b[0m\u001b[0m\n\u001b[0m\u001b[0;32m      4\u001b[0m \u001b[1;32mfor\u001b[0m \u001b[0mf\u001b[0m \u001b[1;32min\u001b[0m \u001b[0mrange\u001b[0m\u001b[1;33m(\u001b[0m\u001b[0mz\u001b[0m\u001b[1;33m)\u001b[0m\u001b[1;33m:\u001b[0m\u001b[1;33m\u001b[0m\u001b[1;33m\u001b[0m\u001b[0m\n\u001b[0;32m      5\u001b[0m     \u001b[0msonglist\u001b[0m \u001b[1;33m+=\u001b[0m \u001b[0mlyricinfo\u001b[0m\u001b[1;33m[\u001b[0m\u001b[0mf\u001b[0m\u001b[1;33m]\u001b[0m\u001b[1;33m[\u001b[0m\u001b[1;34m'Song'\u001b[0m\u001b[1;33m]\u001b[0m\u001b[1;33m\u001b[0m\u001b[1;33m\u001b[0m\u001b[0m\n",
      "\u001b[1;31mValueError\u001b[0m: 'wooly' is not in list"
     ]
    }
   ],
   "source": [
    "songlist = []\n",
    "title_input = input(\"What is the name of the song you are looking for?\")\n",
    "z = len(lyricinfo.index(title_input))\n",
    "for f in range(z):\n",
    "    songlist += lyricinfo[f]['Song']"
   ]
  },
  {
   "cell_type": "code",
   "execution_count": 170,
   "metadata": {},
   "outputs": [
    {
     "name": "stdout",
     "output_type": "stream",
     "text": [
      "Help on class enumerate in module builtins:\n",
      "\n",
      "class enumerate(object)\n",
      " |  enumerate(iterable, start=0)\n",
      " |  \n",
      " |  Return an enumerate object.\n",
      " |  \n",
      " |    iterable\n",
      " |      an object supporting iteration\n",
      " |  \n",
      " |  The enumerate object yields pairs containing a count (from start, which\n",
      " |  defaults to zero) and a value yielded by the iterable argument.\n",
      " |  \n",
      " |  enumerate is useful for obtaining an indexed list:\n",
      " |      (0, seq[0]), (1, seq[1]), (2, seq[2]), ...\n",
      " |  \n",
      " |  Methods defined here:\n",
      " |  \n",
      " |  __getattribute__(self, name, /)\n",
      " |      Return getattr(self, name).\n",
      " |  \n",
      " |  __iter__(self, /)\n",
      " |      Implement iter(self).\n",
      " |  \n",
      " |  __next__(self, /)\n",
      " |      Implement next(self).\n",
      " |  \n",
      " |  __reduce__(...)\n",
      " |      Return state information for pickling.\n",
      " |  \n",
      " |  ----------------------------------------------------------------------\n",
      " |  Static methods defined here:\n",
      " |  \n",
      " |  __new__(*args, **kwargs) from builtins.type\n",
      " |      Create and return a new object.  See help(type) for accurate signature.\n",
      "\n"
     ]
    }
   ],
   "source": [
    "help(enumerate)"
   ]
  },
  {
   "cell_type": "code",
   "execution_count": 169,
   "metadata": {},
   "outputs": [
    {
     "data": {
      "text/plain": [
       "0"
      ]
     },
     "execution_count": 169,
     "metadata": {},
     "output_type": "execute_result"
    }
   ],
   "source": [
    "test1 = [d['Song'] for d in lyricinfo]\n",
    "test1\n",
    "test1.index(\"wooly bully\")\n",
    "#Fetches all of the song titles"
   ]
  },
  {
   "cell_type": "code",
   "execution_count": 181,
   "metadata": {},
   "outputs": [],
   "source": [
    "indices = [i for i, s in enumerate(lyricinfo) if 'satisfaction' in s]"
   ]
  },
  {
   "cell_type": "code",
   "execution_count": 182,
   "metadata": {},
   "outputs": [
    {
     "data": {
      "text/plain": [
       "[]"
      ]
     },
     "execution_count": 182,
     "metadata": {},
     "output_type": "execute_result"
    }
   ],
   "source": [
    "indices"
   ]
  },
  {
   "cell_type": "code",
   "execution_count": 191,
   "metadata": {},
   "outputs": [
    {
     "data": {
      "text/plain": [
       "[2,\n",
       " 22,\n",
       " 35,\n",
       " 41,\n",
       " 49,\n",
       " 62,\n",
       " 63,\n",
       " 67,\n",
       " 69,\n",
       " 73,\n",
       " 165,\n",
       " 189,\n",
       " 211,\n",
       " 225,\n",
       " 264,\n",
       " 283,\n",
       " 286,\n",
       " 353,\n",
       " 356,\n",
       " 366,\n",
       " 379,\n",
       " 382,\n",
       " 387,\n",
       " 483,\n",
       " 505,\n",
       " 510,\n",
       " 526,\n",
       " 541,\n",
       " 554,\n",
       " 569,\n",
       " 591,\n",
       " 609,\n",
       " 618,\n",
       " 622,\n",
       " 631,\n",
       " 634,\n",
       " 649,\n",
       " 659,\n",
       " 663,\n",
       " 675,\n",
       " 680,\n",
       " 692,\n",
       " 699,\n",
       " 726,\n",
       " 733,\n",
       " 746,\n",
       " 845,\n",
       " 859,\n",
       " 931,\n",
       " 936,\n",
       " 1016,\n",
       " 1039,\n",
       " 1041,\n",
       " 1049,\n",
       " 1050,\n",
       " 1065,\n",
       " 1086,\n",
       " 1097,\n",
       " 1111,\n",
       " 1131,\n",
       " 1142,\n",
       " 1146,\n",
       " 1147,\n",
       " 1176,\n",
       " 1220,\n",
       " 1282,\n",
       " 1285,\n",
       " 1296,\n",
       " 1353,\n",
       " 1421,\n",
       " 1438,\n",
       " 1464,\n",
       " 1486,\n",
       " 1490,\n",
       " 1501,\n",
       " 1537,\n",
       " 1610,\n",
       " 1632,\n",
       " 1650,\n",
       " 1655,\n",
       " 1664,\n",
       " 1681,\n",
       " 1695,\n",
       " 1714,\n",
       " 1720,\n",
       " 1729,\n",
       " 1768,\n",
       " 1782,\n",
       " 1819,\n",
       " 1854,\n",
       " 1865,\n",
       " 1904,\n",
       " 1922,\n",
       " 1967,\n",
       " 1970,\n",
       " 1971,\n",
       " 1979,\n",
       " 1980,\n",
       " 2003,\n",
       " 2007,\n",
       " 2025,\n",
       " 2056,\n",
       " 2071,\n",
       " 2084,\n",
       " 2105,\n",
       " 2143,\n",
       " 2177,\n",
       " 2204,\n",
       " 2217,\n",
       " 2224,\n",
       " 2253,\n",
       " 2270,\n",
       " 2279,\n",
       " 2284,\n",
       " 2346,\n",
       " 2380,\n",
       " 2387,\n",
       " 2397,\n",
       " 2407,\n",
       " 2423,\n",
       " 2449,\n",
       " 2489,\n",
       " 2491,\n",
       " 2496,\n",
       " 2498,\n",
       " 2502,\n",
       " 2506,\n",
       " 2519,\n",
       " 2542,\n",
       " 2549,\n",
       " 2553,\n",
       " 2578,\n",
       " 2602,\n",
       " 2613,\n",
       " 2616,\n",
       " 2636,\n",
       " 2659,\n",
       " 2666,\n",
       " 2682,\n",
       " 2685,\n",
       " 2709,\n",
       " 2716,\n",
       " 2721,\n",
       " 2767,\n",
       " 2776,\n",
       " 2813,\n",
       " 2829,\n",
       " 2834,\n",
       " 2845,\n",
       " 2848,\n",
       " 2891,\n",
       " 2898,\n",
       " 2924,\n",
       " 2932,\n",
       " 2962,\n",
       " 2965,\n",
       " 3005,\n",
       " 3010,\n",
       " 3020,\n",
       " 3029,\n",
       " 3060,\n",
       " 3077,\n",
       " 3103,\n",
       " 3117,\n",
       " 3128,\n",
       " 3131,\n",
       " 3134,\n",
       " 3140,\n",
       " 3141,\n",
       " 3145,\n",
       " 3172,\n",
       " 3186,\n",
       " 3204,\n",
       " 3215,\n",
       " 3222,\n",
       " 3224,\n",
       " 3228,\n",
       " 3245,\n",
       " 3249,\n",
       " 3279,\n",
       " 3311,\n",
       " 3332,\n",
       " 3338,\n",
       " 3355,\n",
       " 3384,\n",
       " 3398,\n",
       " 3401,\n",
       " 3408,\n",
       " 3441,\n",
       " 3443,\n",
       " 3478,\n",
       " 3488,\n",
       " 3503,\n",
       " 3509,\n",
       " 3522,\n",
       " 3538,\n",
       " 3556,\n",
       " 3564,\n",
       " 3566,\n",
       " 3581,\n",
       " 3585,\n",
       " 3589,\n",
       " 3627,\n",
       " 3640,\n",
       " 3654,\n",
       " 3667,\n",
       " 3668,\n",
       " 3670,\n",
       " 3736,\n",
       " 3741,\n",
       " 3745,\n",
       " 3778,\n",
       " 3816,\n",
       " 3832,\n",
       " 3855,\n",
       " 3859,\n",
       " 3890,\n",
       " 3896,\n",
       " 3906,\n",
       " 3928,\n",
       " 3971,\n",
       " 3985,\n",
       " 4010,\n",
       " 4021,\n",
       " 4032,\n",
       " 4078,\n",
       " 4096,\n",
       " 4119,\n",
       " 4131,\n",
       " 4146,\n",
       " 4169,\n",
       " 4216,\n",
       " 4275,\n",
       " 4286,\n",
       " 4290,\n",
       " 4302,\n",
       " 4305,\n",
       " 4351,\n",
       " 4376,\n",
       " 4414,\n",
       " 4416,\n",
       " 4455,\n",
       " 4462,\n",
       " 4490,\n",
       " 4501,\n",
       " 4510,\n",
       " 4523,\n",
       " 4609,\n",
       " 4620,\n",
       " 4644,\n",
       " 4656,\n",
       " 4695,\n",
       " 4700,\n",
       " 4712,\n",
       " 4745,\n",
       " 4753,\n",
       " 4759,\n",
       " 4839,\n",
       " 4843,\n",
       " 4886,\n",
       " 4944,\n",
       " 4986,\n",
       " 4987,\n",
       " 5018,\n",
       " 5025,\n",
       " 5058,\n",
       " 5069,\n",
       " 5096]"
      ]
     },
     "execution_count": 191,
     "metadata": {},
     "output_type": "execute_result"
    }
   ],
   "source": [
    "title_pos = [lyricinfo.index(i) for i in lyricinfo if 'no' in i['Song']]\n",
    "#Fetches all of the positions of the songs with \"no\" in their title"
   ]
  },
  {
   "cell_type": "code",
   "execution_count": 193,
   "metadata": {},
   "outputs": [
    {
     "name": "stdin",
     "output_type": "stream",
     "text": [
      "What is the name of the song you are looking for? red\n"
     ]
    },
    {
     "name": "stdout",
     "output_type": "stream",
     "text": [
      "[31, 59, 75, 130, 137, 283, 347, 530, 611, 781, 970, 1004, 1547, 1760, 1824, 2220, 2325, 2338, 2695, 3027, 3885, 3996, 4142, 4159, 4249, 4781, 4801, 4982]\n"
     ]
    }
   ],
   "source": [
    "title_input = input(\"What is the name of the song you are looking for?\")\n",
    "title_pos = [lyricinfo.index(i) for i in lyricinfo if title_input in i['Song']]\n",
    "print(title_pos)\n",
    "#This gets the song positions of songs with the inputted variable in the title"
   ]
  },
  {
   "cell_type": "code",
   "execution_count": 197,
   "metadata": {},
   "outputs": [
    {
     "data": {
      "text/plain": [
       "'red roses for a blue lady'"
      ]
     },
     "execution_count": 197,
     "metadata": {},
     "output_type": "execute_result"
    }
   ],
   "source": [
    "lyricinfo[31]['Song']"
   ]
  },
  {
   "cell_type": "code",
   "execution_count": 199,
   "metadata": {},
   "outputs": [
    {
     "name": "stdout",
     "output_type": "stream",
     "text": [
      "red roses for a blue lady\n",
      "tired of waiting for you\n",
      "red roses for a blue lady\n",
      "lil red riding hood\n",
      "red rubber ball\n",
      "snoopy vs the red baron\n",
      "1 2 3 red light\n",
      "signed sealed delivered im yours\n",
      "tired of being alone\n",
      "freddies dead\n",
      "leave me alone ruby red dress\n",
      "my eyes adored you\n",
      "tired of toein the line\n",
      "one hundred ways\n",
      "little red corvette\n",
      "the lady in red\n",
      "shattered dreams\n",
      "red red wine\n",
      "i saw red\n",
      "red light special\n",
      "red dirt road\n",
      "redneck woman\n",
      "whered you go\n",
      "unpredictable\n",
      "if everyone cared\n",
      "red solo cup\n",
      "blurred lines\n",
      "blurred lines\n"
     ]
    }
   ],
   "source": [
    "for i in title_pos:\n",
    "    print(lyricinfo[i]['Song'])"
   ]
  },
  {
   "cell_type": "code",
   "execution_count": 257,
   "metadata": {},
   "outputs": [],
   "source": [
    "def title_locate_alpha():\n",
    "    print(\"This program will find songs from the Top 100 songs from 1965-2015, based on the title or the fragment of a title,\")\n",
    "    print(\"and will produce the full title, the artist, the rank of the song and what year it achieved that rank.\")\n",
    "    title_input = input(\"What is the name of the song you are looking for?\")\n",
    "    title_pos = [lyricinfo.index(i) for i in lyricinfo if title_input in i['Song']]\n",
    "    print(\"These songs have '\"+title_input+\"' in their title:\")\n",
    "    if title_input != \"\":\n",
    "        for i in title_pos:\n",
    "            print(lyricinfo[i]['Song'].title()+\" by \"+lyricinfo[i]['Artist'].title()+\" which was ranked #\"+lyricinfo[i]['Rank']+\" in \"+lyricinfo[i]['Year'])\n",
    "    else:\n",
    "        print(\"You dun goofed\")\n",
    "    \n",
    "#This basic function takes a title or fragment in a title and finds the song title, the artist, the rank of the song and the year it had that rank"
   ]
  },
  {
   "cell_type": "code",
   "execution_count": 256,
   "metadata": {},
   "outputs": [
    {
     "name": "stdout",
     "output_type": "stream",
     "text": [
      "This program will find songs from the Top 100 songs from 1965-2015, based on the title or the fragment of a title,\n",
      "and will produce the full title, the artist, the rank of the song and what year it achieved that rank.\n"
     ]
    },
    {
     "name": "stdin",
     "output_type": "stream",
     "text": [
      "What is the name of the song you are looking for? \n"
     ]
    },
    {
     "name": "stdout",
     "output_type": "stream",
     "text": [
      "These songs have '' in their title:\n",
      "You dun goofed\n"
     ]
    }
   ],
   "source": [
    "title_locate_alpha()"
   ]
  },
  {
   "cell_type": "code",
   "execution_count": null,
   "metadata": {},
   "outputs": [],
   "source": []
  }
 ],
 "metadata": {
  "kernelspec": {
   "display_name": "Python 3",
   "language": "python",
   "name": "python3"
  },
  "language_info": {
   "codemirror_mode": {
    "name": "ipython",
    "version": 3
   },
   "file_extension": ".py",
   "mimetype": "text/x-python",
   "name": "python",
   "nbconvert_exporter": "python",
   "pygments_lexer": "ipython3",
   "version": "3.7.4"
  }
 },
 "nbformat": 4,
 "nbformat_minor": 4
}
