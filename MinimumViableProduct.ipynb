{
 "cells": [
  {
   "cell_type": "code",
   "execution_count": 4,
   "metadata": {},
   "outputs": [
    {
     "name": "stdout",
     "output_type": "stream",
     "text": [
      "this list has 5100 items in it\n"
     ]
    },
    {
     "data": {
      "text/plain": [
       "OrderedDict([('Rank', '62'),\n",
       "             ('Song', 'eres tu'),\n",
       "             ('Artist', 'mocedades'),\n",
       "             ('Year', '1974'),\n",
       "             ('Lyrics',\n",
       "              ' como una promesa eres t eres t como una maana de verano como una sonrisa eres t eres t as as eres ttoda mi esperanza eres t eres t como lluvia fresca en mis manos como fuerte brisa eres t eres t as  as eres teres t como el agua de mi fuente eres t el fuego de mi hogar eres t como el agua de mi fuente eres t el fuego de mi hogarcomo un poema eres t eres t como una guitarra en la noche como el horizonte eres t eres t as as eres teres t como el agua de mi fuente eres t el fuego de mi hogar eres t como el agua de mi fuente eres t el fuego de mi hogartranslationlike a promise are you are you like a morning of summer like a smile are you are you like that like that are youall my hope are you are you like rain fresh in my hands like strong breeze are you are you like that like that are youare you like the water of my fountain are you the fire of my home are you like the water of my fountain are you the fire of my homesomething like that are you mmmm something like  the fire of my hearth something like that are you oooomy life something like that are you like my poem are you are you like a guitar in the night all my horizon are you are you like that like that are youare you like the water of my fountain are you the fire of my home are you like the water of my fountain are you the fire of my homesomething like that are you mmmm something like  the fire of my hearth something like that are you oooo my life something like that are yousomething like that are you mmmm something like  the fire of my hearth something like that are you oooo my life something like that are you '),\n",
       "             ('Source', '1')])"
      ]
     },
     "execution_count": 4,
     "metadata": {},
     "output_type": "execute_result"
    }
   ],
   "source": [
    "##if letter in word and letter != \"\":\n",
    "##                beta = letter_list.index(letter)\n",
    "\n",
    "import csv\n",
    "lyricinfo = list(csv.DictReader(open('billboard_lyrics_1964-2015.csv','r'),delimiter=','))\n",
    "print(\"this list has\",len(lyricinfo),\"items in it\")\n",
    "lyricinfo[961]"
   ]
  },
  {
   "cell_type": "code",
   "execution_count": 101,
   "metadata": {},
   "outputs": [],
   "source": [
    "def lyric_locate_title():\n",
    "    title_input = input(\"What is the name of the song you are looking for?\")\n",
    "    titles = [f for f in lyricinfo if title_input in lyricinfo]\n",
    "    for i in titles: \n",
    "        print(i)\n",
    "# z = [f for f in facinfo if \"German\" in f['title'] ]"
   ]
  },
  {
   "cell_type": "code",
   "execution_count": 103,
   "metadata": {},
   "outputs": [
    {
     "name": "stdin",
     "output_type": "stream",
     "text": [
      "What is the name of the song you are looking for? 351\n"
     ]
    }
   ],
   "source": [
    "lyric_locate_title()"
   ]
  },
  {
   "cell_type": "code",
   "execution_count": 130,
   "metadata": {},
   "outputs": [],
   "source": [
    "def lyric_test():\n",
    "    i = 0\n",
    "    list2 = []\n",
    "    for i in lyricinfo:\n",
    "        list2.append(lyricinfo[i]['Song'])\n",
    "        i+= 1\n",
    "    print(list2)"
   ]
  },
  {
   "cell_type": "code",
   "execution_count": 131,
   "metadata": {},
   "outputs": [
    {
     "ename": "TypeError",
     "evalue": "list indices must be integers or slices, not collections.OrderedDict",
     "output_type": "error",
     "traceback": [
      "\u001b[1;31m---------------------------------------------------------------------------\u001b[0m",
      "\u001b[1;31mTypeError\u001b[0m                                 Traceback (most recent call last)",
      "\u001b[1;32m<ipython-input-131-ed236e79e6e4>\u001b[0m in \u001b[0;36m<module>\u001b[1;34m\u001b[0m\n\u001b[1;32m----> 1\u001b[1;33m \u001b[0mlyric_test\u001b[0m\u001b[1;33m(\u001b[0m\u001b[1;33m)\u001b[0m\u001b[1;33m\u001b[0m\u001b[1;33m\u001b[0m\u001b[0m\n\u001b[0m",
      "\u001b[1;32m<ipython-input-130-77fd287d16b0>\u001b[0m in \u001b[0;36mlyric_test\u001b[1;34m()\u001b[0m\n\u001b[0;32m      3\u001b[0m     \u001b[0mlist2\u001b[0m \u001b[1;33m=\u001b[0m \u001b[1;33m[\u001b[0m\u001b[1;33m]\u001b[0m\u001b[1;33m\u001b[0m\u001b[1;33m\u001b[0m\u001b[0m\n\u001b[0;32m      4\u001b[0m     \u001b[1;32mfor\u001b[0m \u001b[0mi\u001b[0m \u001b[1;32min\u001b[0m \u001b[0mlyricinfo\u001b[0m\u001b[1;33m:\u001b[0m\u001b[1;33m\u001b[0m\u001b[1;33m\u001b[0m\u001b[0m\n\u001b[1;32m----> 5\u001b[1;33m         \u001b[0mlist2\u001b[0m\u001b[1;33m.\u001b[0m\u001b[0mappend\u001b[0m\u001b[1;33m(\u001b[0m\u001b[0mlyricinfo\u001b[0m\u001b[1;33m[\u001b[0m\u001b[0mi\u001b[0m\u001b[1;33m]\u001b[0m\u001b[1;33m[\u001b[0m\u001b[1;34m'Song'\u001b[0m\u001b[1;33m]\u001b[0m\u001b[1;33m)\u001b[0m\u001b[1;33m\u001b[0m\u001b[1;33m\u001b[0m\u001b[0m\n\u001b[0m\u001b[0;32m      6\u001b[0m         \u001b[0mi\u001b[0m\u001b[1;33m+=\u001b[0m \u001b[1;36m1\u001b[0m\u001b[1;33m\u001b[0m\u001b[1;33m\u001b[0m\u001b[0m\n\u001b[0;32m      7\u001b[0m     \u001b[0mprint\u001b[0m\u001b[1;33m(\u001b[0m\u001b[0mlist2\u001b[0m\u001b[1;33m)\u001b[0m\u001b[1;33m\u001b[0m\u001b[1;33m\u001b[0m\u001b[0m\n",
      "\u001b[1;31mTypeError\u001b[0m: list indices must be integers or slices, not collections.OrderedDict"
     ]
    }
   ],
   "source": [
    "lyric_test()"
   ]
  },
  {
   "cell_type": "code",
   "execution_count": 151,
   "metadata": {},
   "outputs": [
    {
     "name": "stdin",
     "output_type": "stream",
     "text": [
      "What is the name of the song you are looking for? wooly\n"
     ]
    },
    {
     "ename": "ValueError",
     "evalue": "'wooly' is not in list",
     "output_type": "error",
     "traceback": [
      "\u001b[1;31m---------------------------------------------------------------------------\u001b[0m",
      "\u001b[1;31mValueError\u001b[0m                                Traceback (most recent call last)",
      "\u001b[1;32m<ipython-input-151-c3b26658a84d>\u001b[0m in \u001b[0;36m<module>\u001b[1;34m\u001b[0m\n\u001b[0;32m      1\u001b[0m \u001b[0msonglist\u001b[0m \u001b[1;33m=\u001b[0m \u001b[1;33m[\u001b[0m\u001b[1;33m]\u001b[0m\u001b[1;33m\u001b[0m\u001b[1;33m\u001b[0m\u001b[0m\n\u001b[0;32m      2\u001b[0m \u001b[0mtitle_input\u001b[0m \u001b[1;33m=\u001b[0m \u001b[0minput\u001b[0m\u001b[1;33m(\u001b[0m\u001b[1;34m\"What is the name of the song you are looking for?\"\u001b[0m\u001b[1;33m)\u001b[0m\u001b[1;33m\u001b[0m\u001b[1;33m\u001b[0m\u001b[0m\n\u001b[1;32m----> 3\u001b[1;33m \u001b[0mz\u001b[0m \u001b[1;33m=\u001b[0m \u001b[0mlen\u001b[0m\u001b[1;33m(\u001b[0m\u001b[0mlyricinfo\u001b[0m\u001b[1;33m.\u001b[0m\u001b[0mindex\u001b[0m\u001b[1;33m(\u001b[0m\u001b[0mtitle_input\u001b[0m\u001b[1;33m)\u001b[0m\u001b[1;33m)\u001b[0m\u001b[1;33m\u001b[0m\u001b[1;33m\u001b[0m\u001b[0m\n\u001b[0m\u001b[0;32m      4\u001b[0m \u001b[1;32mfor\u001b[0m \u001b[0mf\u001b[0m \u001b[1;32min\u001b[0m \u001b[0mrange\u001b[0m\u001b[1;33m(\u001b[0m\u001b[0mz\u001b[0m\u001b[1;33m)\u001b[0m\u001b[1;33m:\u001b[0m\u001b[1;33m\u001b[0m\u001b[1;33m\u001b[0m\u001b[0m\n\u001b[0;32m      5\u001b[0m     \u001b[0msonglist\u001b[0m \u001b[1;33m+=\u001b[0m \u001b[0mlyricinfo\u001b[0m\u001b[1;33m[\u001b[0m\u001b[0mf\u001b[0m\u001b[1;33m]\u001b[0m\u001b[1;33m[\u001b[0m\u001b[1;34m'Song'\u001b[0m\u001b[1;33m]\u001b[0m\u001b[1;33m\u001b[0m\u001b[1;33m\u001b[0m\u001b[0m\n",
      "\u001b[1;31mValueError\u001b[0m: 'wooly' is not in list"
     ]
    }
   ],
   "source": [
    "songlist = []\n",
    "title_input = input(\"What is the name of the song you are looking for?\")\n",
    "z = len(lyricinfo.index(title_input))\n",
    "for f in range(z):\n",
    "    songlist += lyricinfo[f]['Song']"
   ]
  },
  {
   "cell_type": "code",
   "execution_count": 170,
   "metadata": {},
   "outputs": [
    {
     "name": "stdout",
     "output_type": "stream",
     "text": [
      "Help on class enumerate in module builtins:\n",
      "\n",
      "class enumerate(object)\n",
      " |  enumerate(iterable, start=0)\n",
      " |  \n",
      " |  Return an enumerate object.\n",
      " |  \n",
      " |    iterable\n",
      " |      an object supporting iteration\n",
      " |  \n",
      " |  The enumerate object yields pairs containing a count (from start, which\n",
      " |  defaults to zero) and a value yielded by the iterable argument.\n",
      " |  \n",
      " |  enumerate is useful for obtaining an indexed list:\n",
      " |      (0, seq[0]), (1, seq[1]), (2, seq[2]), ...\n",
      " |  \n",
      " |  Methods defined here:\n",
      " |  \n",
      " |  __getattribute__(self, name, /)\n",
      " |      Return getattr(self, name).\n",
      " |  \n",
      " |  __iter__(self, /)\n",
      " |      Implement iter(self).\n",
      " |  \n",
      " |  __next__(self, /)\n",
      " |      Implement next(self).\n",
      " |  \n",
      " |  __reduce__(...)\n",
      " |      Return state information for pickling.\n",
      " |  \n",
      " |  ----------------------------------------------------------------------\n",
      " |  Static methods defined here:\n",
      " |  \n",
      " |  __new__(*args, **kwargs) from builtins.type\n",
      " |      Create and return a new object.  See help(type) for accurate signature.\n",
      "\n"
     ]
    }
   ],
   "source": [
    "help(enumerate)"
   ]
  },
  {
   "cell_type": "code",
   "execution_count": 169,
   "metadata": {},
   "outputs": [
    {
     "data": {
      "text/plain": [
       "0"
      ]
     },
     "execution_count": 169,
     "metadata": {},
     "output_type": "execute_result"
    }
   ],
   "source": [
    "test1 = [d['Song'] for d in lyricinfo]\n",
    "test1\n",
    "test1.index(\"wooly bully\")\n",
    "#Fetches all of the song titles"
   ]
  },
  {
   "cell_type": "code",
   "execution_count": 181,
   "metadata": {},
   "outputs": [],
   "source": [
    "indices = [i for i, s in enumerate(lyricinfo) if 'satisfaction' in s]"
   ]
  },
  {
   "cell_type": "code",
   "execution_count": 182,
   "metadata": {},
   "outputs": [
    {
     "data": {
      "text/plain": [
       "[]"
      ]
     },
     "execution_count": 182,
     "metadata": {},
     "output_type": "execute_result"
    }
   ],
   "source": [
    "indices"
   ]
  },
  {
   "cell_type": "code",
   "execution_count": 6,
   "metadata": {},
   "outputs": [],
   "source": [
    "title_pos = [lyricinfo.index(i) for i in lyricinfo if 'tomorrow' in i['Song']]\n",
    "#Fetches all of the positions of the songs with \"no\" in their title"
   ]
  },
  {
   "cell_type": "code",
   "execution_count": 193,
   "metadata": {},
   "outputs": [
    {
     "name": "stdin",
     "output_type": "stream",
     "text": [
      "What is the name of the song you are looking for? red\n"
     ]
    },
    {
     "name": "stdout",
     "output_type": "stream",
     "text": [
      "[31, 59, 75, 130, 137, 283, 347, 530, 611, 781, 970, 1004, 1547, 1760, 1824, 2220, 2325, 2338, 2695, 3027, 3885, 3996, 4142, 4159, 4249, 4781, 4801, 4982]\n"
     ]
    }
   ],
   "source": [
    "title_input = input(\"What is the name of the song you are looking for?\")\n",
    "title_pos = [lyricinfo.index(i) for i in lyricinfo if title_input in i['Song']]\n",
    "print(title_pos)\n",
    "#This gets the song positions of songs with the inputted variable in the title"
   ]
  },
  {
   "cell_type": "code",
   "execution_count": 7,
   "metadata": {},
   "outputs": [
    {
     "data": {
      "text/plain": [
       "'red roses for a blue lady'"
      ]
     },
     "execution_count": 7,
     "metadata": {},
     "output_type": "execute_result"
    }
   ],
   "source": [
    "lyricinfo[31]['Song']"
   ]
  },
  {
   "cell_type": "code",
   "execution_count": 8,
   "metadata": {},
   "outputs": [],
   "source": [
    "for i in title_pos:\n",
    "    print(lyricinfo[i]['Song'])"
   ]
  },
  {
   "cell_type": "markdown",
   "metadata": {},
   "source": [
    "# **Lyric Locate Alpha**"
   ]
  },
  {
   "cell_type": "code",
   "execution_count": 27,
   "metadata": {},
   "outputs": [],
   "source": [
    "import csv\n",
    "lyricinfo = list(csv.DictReader(open('billboard_lyrics_1964-2015.csv','r'),delimiter=','))\n",
    "#This imports the csv and preps it for being read\n",
    "def title_locate_alpha():\n",
    "    print(\"This program will find songs from the Top 100 songs from 1965-2015, based on the title or the fragment of a title,\")\n",
    "    print(\"and will produce the full title, the artist, the rank of the song and what year it achieved that rank.\")\n",
    "    title_input = input(\"What is the name of the song you are looking for?\")\n",
    "    title_pos = [lyricinfo.index(i) for i in lyricinfo if title_input in i['Song']]\n",
    "    print(\"These songs have '\"+title_input+\"' in their title:\")\n",
    "    if title_input != \"\":\n",
    "        for i in title_pos:\n",
    "            print(lyricinfo[i]['Song'].title()+\" performed by \"+lyricinfo[i]['Artist'].title()+\", which was ranked #\"+lyricinfo[i]['Rank']+\" in \"+lyricinfo[i]['Year']+ \" on the Billboard Hot 100.\")\n",
    "    else:\n",
    "        print(\"You dun goofed\")\n",
    "    \n",
    "#This basic function takes a title or fragment in a title and finds the song title, the artist, the rank of the song and the year it had that rank\n",
    "#Later have it allow the user to select the song from a list and fetch the lyrics and maybe a youtube url?"
   ]
  },
  {
   "cell_type": "code",
   "execution_count": 38,
   "metadata": {},
   "outputs": [
    {
     "name": "stdout",
     "output_type": "stream",
     "text": [
      "This program will find songs from the Top 100 songs from 1965-2015, based on the title or the fragment of a title,\n",
      "and will produce the full title, the artist, the rank of the song and what year it achieved that rank.\n"
     ]
    },
    {
     "name": "stdin",
     "output_type": "stream",
     "text": [
      "What is the name of the song you are looking for? red\n"
     ]
    },
    {
     "name": "stdout",
     "output_type": "stream",
     "text": [
      "These songs have 'red' in their title:\n",
      "Red Roses For A Blue Lady performed by Bert Kaempfert, which was ranked #32 in 1965 on the Billboard Hot 100.\n",
      "Tired Of Waiting For You performed by The Kinks, which was ranked #60 in 1965 on the Billboard Hot 100.\n",
      "Red Roses For A Blue Lady performed by Vic Dana, which was ranked #76 in 1965 on the Billboard Hot 100.\n",
      "Lil Red Riding Hood performed by Sam The Sham And The Pharaohs, which was ranked #31 in 1966 on the Billboard Hot 100.\n",
      "Red Rubber Ball performed by The Cyrkle, which was ranked #38 in 1966 on the Billboard Hot 100.\n",
      "Snoopy Vs The Red Baron performed by The Royal Guardsmen, which was ranked #84 in 1967 on the Billboard Hot 100.\n",
      "1 2 3 Red Light performed by 1910 Fruitgum Company, which was ranked #48 in 1968 on the Billboard Hot 100.\n",
      "Signed Sealed Delivered Im Yours performed by Stevie Wonder, which was ranked #31 in 1970 on the Billboard Hot 100.\n",
      "Tired Of Being Alone performed by Al Green, which was ranked #12 in 1971 on the Billboard Hot 100.\n",
      "Freddies Dead performed by Curtis Mayfield, which was ranked #82 in 1972 on the Billboard Hot 100.\n",
      "Leave Me Alone Ruby Red Dress performed by Helen Reddy, which was ranked #71 in 1974 on the Billboard Hot 100.\n",
      "My Eyes Adored You performed by Frankie Valli, which was ranked #5 in 1975 on the Billboard Hot 100.\n",
      "Tired Of Toein The Line performed by Rocky Burnette, which was ranked #48 in 1980 on the Billboard Hot 100.\n",
      "One Hundred Ways performed by Quincy Jones Featuring James Ingram, which was ranked #61 in 1982 on the Billboard Hot 100.\n",
      "Little Red Corvette performed by Prince, which was ranked #25 in 1983 on the Billboard Hot 100.\n",
      "The Lady In Red performed by Chris De Burgh, which was ranked #21 in 1987 on the Billboard Hot 100.\n",
      "Shattered Dreams performed by Johnny Hates Jazz, which was ranked #26 in 1988 on the Billboard Hot 100.\n",
      "Red Red Wine performed by Ub40, which was ranked #39 in 1988 on the Billboard Hot 100.\n",
      "I Saw Red performed by Warrant, which was ranked #96 in 1991 on the Billboard Hot 100.\n",
      "Red Light Special performed by Tlc, which was ranked #28 in 1995 on the Billboard Hot 100.\n",
      "Red Dirt Road performed by Brooks  Dunn, which was ranked #86 in 2003 on the Billboard Hot 100.\n",
      "Redneck Woman performed by Gretchen Wilson, which was ranked #97 in 2004 on the Billboard Hot 100.\n",
      "Whered You Go performed by Fort Minor Featuring Holly Brook And Jonah Matranga, which was ranked #43 in 2006 on the Billboard Hot 100.\n",
      "Unpredictable performed by Jamie Foxx Featuring Ludacris, which was ranked #60 in 2006 on the Billboard Hot 100.\n",
      "If Everyone Cared performed by Nickelback, which was ranked #50 in 2007 on the Billboard Hot 100.\n",
      "Red Solo Cup performed by Toby Keith, which was ranked #82 in 2012 on the Billboard Hot 100.\n",
      "Blurred Lines performed by Robin Thicke Featuring Ti And Pharrell Williams, which was ranked #2 in 2013 on the Billboard Hot 100.\n",
      "Blurred Lines performed by Robin Thicke Featuring Ti And Pharrell, which was ranked #83 in 2014 on the Billboard Hot 100.\n"
     ]
    }
   ],
   "source": [
    "title_locate_alpha()"
   ]
  },
  {
   "cell_type": "code",
   "execution_count": 2,
   "metadata": {},
   "outputs": [
    {
     "name": "stdout",
     "output_type": "stream",
     "text": [
      "http://www.youtube.com/watch?v=EFMD7Usflbg\n"
     ]
    }
   ],
   "source": [
    "import urllib.request\n",
    "import urllib.parse\n",
    "import re\n",
    "\n",
    "query_string = urllib.parse.urlencode({\"search_query\" : \"kiss rock and roll\"})\n",
    "html_content = urllib.request.urlopen(\"http://www.youtube.com/results?\" + query_string)\n",
    "search_results = re.findall(r'href=\\\"\\/watch\\?v=(.{11})', html_content.read().decode())\n",
    "print(\"http://www.youtube.com/watch?v=\" + search_results[0])"
   ]
  },
  {
   "cell_type": "markdown",
   "metadata": {},
   "source": [
    "# ***Lyric Locate V2***"
   ]
  },
  {
   "cell_type": "code",
   "execution_count": 89,
   "metadata": {},
   "outputs": [],
   "source": [
    "import csv\n",
    "import urllib.request\n",
    "import urllib.parse\n",
    "import re\n",
    "lyricinfo = list(csv.DictReader(open('billboard_lyrics_1964-2015.csv','r'),delimiter=','))\n",
    "#This imports the csv and preps it for being read and also preps the youtube URL request stuff\n",
    "def lyric_locate_beta():\n",
    "    print(\"This program will find songs from the Top 100 songs from 1965-2015, based on a phrase in the lyrics or individual words present in the lyrics,\")\n",
    "    print(\"and will produce the full title, the artist, the rank of the song and what year it achieved that rank, as well as a url that links to the song.\")\n",
    "    lyric_word_list = []\n",
    "    lyric_quest = \"\"\n",
    "    n = 1\n",
    "    while lyric_quest != \"A\" or \"B\":\n",
    "        lyric_quest = input(\"Do you want to search a [A]phrase or [B]words?\")\n",
    "        break\n",
    "    if lyric_quest == \"A\":\n",
    "        lyric_phrase = input(\"What is the phrase from the lyrics of the song you are searching for?\")\n",
    "        song_pos_phrase = [lyricinfo.index(i) for i in lyricinfo if lyric_phrase in i['Lyrics']]\n",
    "        print(\"These songs have '\"+lyric_phrase+\"' in their lyrics:\")\n",
    "        if lyric_phrase != \"\" and len(song_pos_phrase) <= 25:\n",
    "            for i in song_pos_phrase:\n",
    "                print(str(n)+\". \"+lyricinfo[i]['Song'].title()+\" performed by \"+lyricinfo[i]['Artist'].title()+\", which was ranked #\"+lyricinfo[i]['Rank']+\" in \"+lyricinfo[i]['Year']+ \" on the Billboard Hot 100.\")\n",
    "                n += 1\n",
    "                query_string = urllib.parse.urlencode({\"search_query\" : lyricinfo[i]['Song'].title()})\n",
    "                html_content = urllib.request.urlopen(\"http://www.youtube.com/results?\" + query_string)\n",
    "                search_results = re.findall(r'href=\\\"\\/watch\\?v=(.{11})', html_content.read().decode())\n",
    "                youtube_url_searched = \"http://www.youtube.com/watch?v=\" + search_results[0]\n",
    "                print(\"You can listen to this song by using this url: \"+youtube_url_searched)\n",
    "        if len(song_pos_phrase) == 0:\n",
    "            print(\"There are no songs with this phrase in their lyrics\")\n",
    "        if lyric_phrase == \"\":\n",
    "            print(\"You did not enter a phrase, please try again and follow the directions!\")\n",
    "        elif len(song_pos_phrase) > 25:\n",
    "            print(\"Your phrase is too common. It appears in \"+str(len(song_pos_phrase))+\" songs. Please try again with a different phrase.\")\n",
    "#Pt. A works to my knowledge mostly flawlessly. Cant get the while statement to work without the break.\n",
    "#Problems with Pt B: combines words into phrases instead of searching each word and then matching. Depends on the order of the words. Needs to search lyrics, return lyrics to an internal reference and then search again with each additional word.\n",
    "    if lyric_quest == \"B\":\n",
    "        lyric_word_response = \"\"\n",
    "        lyric_word_phrase = \"\"\n",
    "        j = 0\n",
    "        while lyric_word_response != \"N\":\n",
    "            lyric_word = input(\"What is one word in the lyrics of the song you are looking for?\")\n",
    "            lyric_word_list.append(lyric_word)\n",
    "            lyric_word_response = input(\"Would you like to add more words to your search? [Y]Yes or [N]No?\")\n",
    "        for n in lyric_word_list:\n",
    "            while j < len(lyric_word_list):\n",
    "                lyric_word_phrase += lyric_word_list[j]\n",
    "                j += 1\n",
    "        song_pos_words = [lyricinfo.index(i) for i in lyricinfo if lyric_word_phrase in i['Lyrics']]\n",
    "        print(\"These songs have '\"+lyric_word_phrase+\"' in their lyrics:\")\n",
    "        if lyric_word_list != \"\" and len(song_pos_words) <= 25:\n",
    "            for i in song_pos_words:\n",
    "                print(lyricinfo[i]['Song'].title()+\" performed by \"+lyricinfo[i]['Artist'].title()+\", which was ranked #\"+lyricinfo[i]['Rank']+\" in \"+lyricinfo[i]['Year']+ \" on the Billboard Hot 100.\")\n",
    "                break\n",
    "        if lyric_word_list != \"\" and len(song_pos_words) > 25:\n",
    "            while lyric_word_response2 != \"N\":\n",
    "                lyric_word2 = input(\"Your list of songs is too long. Please provide more words from the song's lyrics to narrow the search.\")\n",
    "                lyric_word_list.append(lyric_word2)\n",
    "                lyric_word_response2 = input(\"Would you like to add any more words to your search? [Y]Yes or [N]No?\")\n",
    "            if lyric_word_list != \"\" and len(song_pos_words) <= 25:\n",
    "                for i in song_pos_words:\n",
    "                    print(lyricinfo[i]['Song'].title()+\" performed by \"+lyricinfo[i]['Artist'].title()+\", which was ranked #\"+lyricinfo[i]['Rank']+\" in \"+lyricinfo[i]['Year']+ \" on the Billboard Hot 100.\")\n",
    "        elif lyric_word_list == \"\":\n",
    "            print(\"User Error. Please try again and try to follow the directions!\")"
   ]
  },
  {
   "cell_type": "code",
   "execution_count": 95,
   "metadata": {},
   "outputs": [
    {
     "name": "stdout",
     "output_type": "stream",
     "text": [
      "This program will find songs from the Top 100 songs from 1965-2015, based on a phrase in the lyrics or individual words present in the lyrics,\n",
      "and will produce the full title, the artist, the rank of the song and what year it achieved that rank, as well as a url that links to the song.\n"
     ]
    },
    {
     "name": "stdin",
     "output_type": "stream",
     "text": [
      "Do you want to search a [A]phrase or [B]words? A\n",
      "What is the phrase from the lyrics of the song you are searching for? love me too\n"
     ]
    },
    {
     "name": "stdout",
     "output_type": "stream",
     "text": [
      "These songs have 'love me too' in their lyrics:\n",
      "1. Wonderful World performed by Hermans Hermits, which was ranked #67 in 1965 on the Billboard Hot 100.\n",
      "You can listen to this song by using this url: http://www.youtube.com/watch?v=A3yCcXgbKrE\n",
      "2. I Say A Little Prayer performed by Aretha Franklin, which was ranked #93 in 1968 on the Billboard Hot 100.\n",
      "You can listen to this song by using this url: http://www.youtube.com/watch?v=KtBbyglq37E\n",
      "3. You Showed Me performed by The Turtles, which was ranked #80 in 1969 on the Billboard Hot 100.\n",
      "You can listen to this song by using this url: http://www.youtube.com/watch?v=Ul3K_e-ZgiE\n",
      "4. Baby Let Me Take You In My Arms performed by The Detroit Emeralds, which was ranked #95 in 1972 on the Billboard Hot 100.\n",
      "You can listen to this song by using this url: http://www.youtube.com/watch?v=Hzfksh52BIw\n",
      "5. Oh Babe What Would You Say performed by Hurricane Smith, which was ranked #57 in 1973 on the Billboard Hot 100.\n",
      "You can listen to this song by using this url: http://www.youtube.com/watch?v=KuccqN63I4I\n",
      "6. Call On Me performed by Chicago, which was ranked #98 in 1974 on the Billboard Hot 100.\n",
      "You can listen to this song by using this url: http://www.youtube.com/watch?v=qetW6R9Jxs4\n",
      "7. Kissing A Fool performed by George Michael, which was ranked #91 in 1988 on the Billboard Hot 100.\n",
      "You can listen to this song by using this url: http://www.youtube.com/watch?v=hhmj6Gm-6Do\n",
      "8. Doesnt Really Matter performed by Janet Jackson, which was ranked #18 in 2000 on the Billboard Hot 100.\n",
      "You can listen to this song by using this url: http://www.youtube.com/watch?v=7iJZosBX2L0\n",
      "9. Gone performed by N Sync, which was ranked #75 in 2002 on the Billboard Hot 100.\n",
      "You can listen to this song by using this url: http://www.youtube.com/watch?v=IxHTUEhHoQg\n"
     ]
    }
   ],
   "source": [
    "lyric_locate_beta()"
   ]
  },
  {
   "cell_type": "code",
   "execution_count": null,
   "metadata": {},
   "outputs": [],
   "source": []
  }
 ],
 "metadata": {
  "kernelspec": {
   "display_name": "Python 3",
   "language": "python",
   "name": "python3"
  },
  "language_info": {
   "codemirror_mode": {
    "name": "ipython",
    "version": 3
   },
   "file_extension": ".py",
   "mimetype": "text/x-python",
   "name": "python",
   "nbconvert_exporter": "python",
   "pygments_lexer": "ipython3",
   "version": "3.7.4"
  }
 },
 "nbformat": 4,
 "nbformat_minor": 4
}
